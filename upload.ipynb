{
 "cells": [
  {
   "cell_type": "code",
   "execution_count": 1,
   "id": "59b17d0d",
   "metadata": {},
   "outputs": [],
   "source": [
    "from urllib import request\n",
    "import re\n",
    "import requests\n",
    "import time\n",
    "\n",
    "def downloadimages(place,path):\n",
    "    url='https://zjk.lianjia.com/xiaoqu/{}/'.format(place)\n",
    "    headers={\"User-Agent\":\"Mozilla/5.0 (Windows NT 6.1; WOW64) AppleWebKit/537.36 (KHTML, like Gecko) Chrome/63.0.3239.132 Safari/537.36 QIHU 360SE\"}\n",
    "    response = request.Request(url, headers=headers)\n",
    "    req = request.urlopen(response)\n",
    "    html = req.read()\n",
    "    html = html.decode()\n",
    "    pattern = re.compile('https://image1.ljcdn.com/hdic-resblock/(.*?).jpg', re.S)\n",
    "    imageids=pattern.findall(html)\n",
    "    imgids=[]\n",
    "    for imageid in imageids:\n",
    "        if imageid not in imageidi:\n",
    "            imgids.append(imageid)\n",
    "    for imgid in imgids:\n",
    "        imgurl='https://image1.ljcdn.com/hdic-resblock/{}.jpg'.format(imgid)\n",
    "        headers = {\n",
    "                \"sec-ch-ua\": '\" Not A;Brand\";v=\"122\", \"Chromium\";v=\"122\", \"Google Chrome\";v=\"122\"',\n",
    "                \"Referer\": \"https://map.baidu.com/\",\n",
    "                \"Connection\":\"close\",\n",
    "                \"sec-ch-ua-mobile\": \"?0\",\n",
    "                \"User-Agent\": \"Mozilla/5.0 (Windows NT 10.0; Win64; x64) AppleWebKit/537.36 (KHTML, like Gecko) Chrome/122.0.4430.212 Safari/537.36\"\n",
    "                }\n",
    "        res=requests.get(imgurl,headers=headers)\n",
    "        if res.status_code == 200:\n",
    "            image=res.content\n",
    "            with open(f'{path}/{imgid}.jpg','wb') as img:\n",
    "                img.write(image)\n",
    "            img.close()\n",
    "            time.sleep(1)"
   ]
  }
 ],
 "metadata": {
  "kernelspec": {
   "display_name": "Python 3",
   "language": "python",
   "name": "python3"
  },
  "language_info": {
   "codemirror_mode": {
    "name": "ipython",
    "version": 3
   },
   "file_extension": ".py",
   "mimetype": "text/x-python",
   "name": "python",
   "nbconvert_exporter": "python",
   "pygments_lexer": "ipython3",
   "version": "3.8.8"
  }
 },
 "nbformat": 4,
 "nbformat_minor": 5
}
